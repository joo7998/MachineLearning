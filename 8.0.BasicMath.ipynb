{
 "cells": [
  {
   "cell_type": "markdown",
   "id": "84acd4d1-ed5a-4612-871c-14ff3960c52e",
   "metadata": {},
   "source": [
    "# 1.행렬 x 벡터 = 벡터 \n",
    "\n",
    "# 대부분 ML, Deep Learning에서 vector는 열백터 "
   ]
  },
  {
   "cell_type": "markdown",
   "id": "0ec315f8-1297-4970-80e0-4584d22722ff",
   "metadata": {},
   "source": [
    "# 2.기울기(a) \n",
    "\n",
    "y=ax+b\n",
    "\n",
    "y=f(x)\n",
    "f'(x) : f(x)의 순간변화율/도함수, 미분계수 => y' (y prime) \n",
    "\n",
    "http://matrix.skku.ac.kr/math4ai/part2/ (성균관대 인공지능 기초수학)\n",
    "\n"
   ]
  },
  {
   "cell_type": "markdown",
   "id": "6b1d6255-b00a-4b2f-bd71-6052a8f14f8f",
   "metadata": {},
   "source": [
    "# 3.편미분 (partial derivative)"
   ]
  },
  {
   "cell_type": "markdown",
   "id": "f0aaa56c-9a4d-483d-984e-26c41ddd4bc0",
   "metadata": {},
   "source": [
    "# 4.합성 함수 : f(g(x))=(f∘g)(x) \n",
    "- y=g(x)∘f(x) \n",
    "\n",
    "합성 함수 기울기 \n",
    "- y' = g'(x) * f'(x)\n",
    "\n",
    "- f(g(x))의 도함수는 f'(g(x))g'(x) \n",
    "- NOT f'(g'(x))\n",
    " \n",
    "\n",
    "### https://ko.khanacademy.org/math/precalculus-new/x9e81a4f98389efdf:composite/x9e81a4f98389efdf:composing/a/finding-and-evaluating-composite-functions"
   ]
  },
  {
   "cell_type": "code",
   "execution_count": null,
   "id": "69989fee-7f13-4e43-b351-e590926020c0",
   "metadata": {},
   "outputs": [],
   "source": []
  },
  {
   "cell_type": "code",
   "execution_count": null,
   "id": "29e0d031-e3bd-421e-b405-2064a21c9d1a",
   "metadata": {},
   "outputs": [],
   "source": []
  },
  {
   "cell_type": "code",
   "execution_count": null,
   "id": "d4324989-8c88-444c-835e-539fda6c82c4",
   "metadata": {},
   "outputs": [],
   "source": []
  },
  {
   "cell_type": "code",
   "execution_count": null,
   "id": "c449735e-1e93-4037-bdb2-5f8234ff4ca8",
   "metadata": {},
   "outputs": [],
   "source": []
  }
 ],
 "metadata": {
  "kernelspec": {
   "display_name": "Python 3",
   "language": "python",
   "name": "python3"
  },
  "language_info": {
   "codemirror_mode": {
    "name": "ipython",
    "version": 3
   },
   "file_extension": ".py",
   "mimetype": "text/x-python",
   "name": "python",
   "nbconvert_exporter": "python",
   "pygments_lexer": "ipython3",
   "version": "3.8.10"
  }
 },
 "nbformat": 4,
 "nbformat_minor": 5
}
